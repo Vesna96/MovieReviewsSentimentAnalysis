{
 "cells": [
  {
   "cell_type": "markdown",
   "id": "b5a358b7",
   "metadata": {},
   "source": [
    "# Zadatak 5 - Sentiment analysis"
   ]
  },
  {
   "cell_type": "markdown",
   "id": "ef5b56d7",
   "metadata": {},
   "source": [
    "### Student: Vesna Stojanovic 1339"
   ]
  },
  {
   "cell_type": "markdown",
   "id": "1a3435e9",
   "metadata": {},
   "source": [
    "#### Korišćeni dataset: https://www.kaggle.com/datasets/lakshmi25npathi/imdb-dataset-of-50k-movie-reviews\n",
    "\n",
    "U ovom zadatku korišćen je dataset koji sadrži listu IMDB review-a (utisaka filmova) u kojima su korisnici komentarisali odgledane filmove. Svaki utisak sadrži komentar (utisak) i sentiment ('negative' ili 'positive'). Ovo je IMDB skup podataka sa 50.000 recenzija filmova za obradu prirodnog jezika ili analitiku teksta. "
   ]
  },
  {
   "cell_type": "markdown",
   "id": "707854c1",
   "metadata": {},
   "source": [
    "### Pretprocesiranje"
   ]
  },
  {
   "cell_type": "markdown",
   "id": "e48f2e62",
   "metadata": {},
   "source": [
    "Importovanje biblioteka za rad"
   ]
  },
  {
   "cell_type": "code",
   "execution_count": 1,
   "id": "ff37dfb9",
   "metadata": {},
   "outputs": [],
   "source": [
    "import nltk\n",
    "import pandas as pd\n",
    "import matplotlib.pyplot as plt"
   ]
  },
  {
   "cell_type": "markdown",
   "id": "d4fca2d5",
   "metadata": {},
   "source": [
    "Ucitavanje skupa podataka i prikaz prvih 5 elemenata"
   ]
  },
  {
   "cell_type": "code",
   "execution_count": 2,
   "id": "3c8a24a7",
   "metadata": {},
   "outputs": [
    {
     "data": {
      "text/html": [
       "<div>\n",
       "<style scoped>\n",
       "    .dataframe tbody tr th:only-of-type {\n",
       "        vertical-align: middle;\n",
       "    }\n",
       "\n",
       "    .dataframe tbody tr th {\n",
       "        vertical-align: top;\n",
       "    }\n",
       "\n",
       "    .dataframe thead th {\n",
       "        text-align: right;\n",
       "    }\n",
       "</style>\n",
       "<table border=\"1\" class=\"dataframe\">\n",
       "  <thead>\n",
       "    <tr style=\"text-align: right;\">\n",
       "      <th></th>\n",
       "      <th>review</th>\n",
       "      <th>sentiment</th>\n",
       "    </tr>\n",
       "  </thead>\n",
       "  <tbody>\n",
       "    <tr>\n",
       "      <th>0</th>\n",
       "      <td>One of the other reviewers has mentioned that ...</td>\n",
       "      <td>positive</td>\n",
       "    </tr>\n",
       "    <tr>\n",
       "      <th>1</th>\n",
       "      <td>A wonderful little production. &lt;br /&gt;&lt;br /&gt;The...</td>\n",
       "      <td>positive</td>\n",
       "    </tr>\n",
       "    <tr>\n",
       "      <th>2</th>\n",
       "      <td>I thought this was a wonderful way to spend ti...</td>\n",
       "      <td>positive</td>\n",
       "    </tr>\n",
       "    <tr>\n",
       "      <th>3</th>\n",
       "      <td>Basically there's a family where a little boy ...</td>\n",
       "      <td>negative</td>\n",
       "    </tr>\n",
       "    <tr>\n",
       "      <th>4</th>\n",
       "      <td>Petter Mattei's \"Love in the Time of Money\" is...</td>\n",
       "      <td>positive</td>\n",
       "    </tr>\n",
       "  </tbody>\n",
       "</table>\n",
       "</div>"
      ],
      "text/plain": [
       "                                              review sentiment\n",
       "0  One of the other reviewers has mentioned that ...  positive\n",
       "1  A wonderful little production. <br /><br />The...  positive\n",
       "2  I thought this was a wonderful way to spend ti...  positive\n",
       "3  Basically there's a family where a little boy ...  negative\n",
       "4  Petter Mattei's \"Love in the Time of Money\" is...  positive"
      ]
     },
     "execution_count": 2,
     "metadata": {},
     "output_type": "execute_result"
    }
   ],
   "source": [
    "reviews_df=pd.read_csv('./IMDB.csv',encoding='ISO-8859-1')\n",
    "reviews_df.head()"
   ]
  },
  {
   "cell_type": "code",
   "execution_count": 3,
   "id": "8797646b",
   "metadata": {},
   "outputs": [
    {
     "name": "stdout",
     "output_type": "stream",
     "text": [
      "Broj utisaka:  50000\n"
     ]
    }
   ],
   "source": [
    "print(\"Broj utisaka: \",reviews_df.shape[0])"
   ]
  },
  {
   "cell_type": "code",
   "execution_count": 4,
   "id": "58df5047",
   "metadata": {},
   "outputs": [
    {
     "data": {
      "text/html": [
       "<div>\n",
       "<style scoped>\n",
       "    .dataframe tbody tr th:only-of-type {\n",
       "        vertical-align: middle;\n",
       "    }\n",
       "\n",
       "    .dataframe tbody tr th {\n",
       "        vertical-align: top;\n",
       "    }\n",
       "\n",
       "    .dataframe thead th {\n",
       "        text-align: right;\n",
       "    }\n",
       "</style>\n",
       "<table border=\"1\" class=\"dataframe\">\n",
       "  <thead>\n",
       "    <tr style=\"text-align: right;\">\n",
       "      <th></th>\n",
       "      <th>review</th>\n",
       "      <th>sentiment</th>\n",
       "    </tr>\n",
       "  </thead>\n",
       "  <tbody>\n",
       "    <tr>\n",
       "      <th>count</th>\n",
       "      <td>50000</td>\n",
       "      <td>50000</td>\n",
       "    </tr>\n",
       "    <tr>\n",
       "      <th>unique</th>\n",
       "      <td>49582</td>\n",
       "      <td>2</td>\n",
       "    </tr>\n",
       "    <tr>\n",
       "      <th>top</th>\n",
       "      <td>Loved today's show!!! It was a variety and not...</td>\n",
       "      <td>positive</td>\n",
       "    </tr>\n",
       "    <tr>\n",
       "      <th>freq</th>\n",
       "      <td>5</td>\n",
       "      <td>25000</td>\n",
       "    </tr>\n",
       "  </tbody>\n",
       "</table>\n",
       "</div>"
      ],
      "text/plain": [
       "                                                   review sentiment\n",
       "count                                               50000     50000\n",
       "unique                                              49582         2\n",
       "top     Loved today's show!!! It was a variety and not...  positive\n",
       "freq                                                    5     25000"
      ]
     },
     "execution_count": 4,
     "metadata": {},
     "output_type": "execute_result"
    }
   ],
   "source": [
    "reviews_df.describe()"
   ]
  },
  {
   "cell_type": "code",
   "execution_count": 5,
   "id": "cf3c425d",
   "metadata": {},
   "outputs": [
    {
     "data": {
      "text/plain": [
       "(50000, 2)"
      ]
     },
     "execution_count": 5,
     "metadata": {},
     "output_type": "execute_result"
    }
   ],
   "source": [
    "reviews_df.shape"
   ]
  },
  {
   "cell_type": "markdown",
   "id": "69212547",
   "metadata": {},
   "source": [
    "Provera null vrednosti"
   ]
  },
  {
   "cell_type": "code",
   "execution_count": 6,
   "id": "83598095",
   "metadata": {},
   "outputs": [
    {
     "data": {
      "text/plain": [
       "review       0\n",
       "sentiment    0\n",
       "dtype: int64"
      ]
     },
     "execution_count": 6,
     "metadata": {},
     "output_type": "execute_result"
    }
   ],
   "source": [
    "reviews_df.isnull().sum()"
   ]
  },
  {
   "cell_type": "markdown",
   "id": "7360dcde",
   "metadata": {},
   "source": [
    "Provera vrsta sentimenata koje imamo u našem data set-u"
   ]
  },
  {
   "cell_type": "code",
   "execution_count": 7,
   "id": "32d8dd1b",
   "metadata": {},
   "outputs": [
    {
     "data": {
      "text/plain": [
       "array(['positive', 'negative'], dtype=object)"
      ]
     },
     "execution_count": 7,
     "metadata": {},
     "output_type": "execute_result"
    }
   ],
   "source": [
    "reviews_df['sentiment'].unique()"
   ]
  },
  {
   "cell_type": "markdown",
   "id": "7b6ec253",
   "metadata": {},
   "source": [
    "Provera broja sentimenata po svakom tipu sentimenta gde možemo videti da imamo 25000 pozitivnih i 25000 negativnih utisaka."
   ]
  },
  {
   "cell_type": "code",
   "execution_count": 8,
   "id": "6c1b0637",
   "metadata": {},
   "outputs": [
    {
     "data": {
      "text/plain": [
       "positive    25000\n",
       "negative    25000\n",
       "Name: sentiment, dtype: int64"
      ]
     },
     "execution_count": 8,
     "metadata": {},
     "output_type": "execute_result"
    }
   ],
   "source": [
    "reviews_df['sentiment'].value_counts()"
   ]
  },
  {
   "cell_type": "markdown",
   "id": "157efb71",
   "metadata": {},
   "source": [
    "Zastupljenost sentimenta u dataset-u i vizuelni prikaz pomocu pie dijagrama"
   ]
  },
  {
   "cell_type": "code",
   "execution_count": 9,
   "id": "283a2b9c",
   "metadata": {},
   "outputs": [],
   "source": [
    "def value_counts_two(column):\n",
    "    value = column.value_counts()\n",
    "    label = column.value_counts().index\n",
    "    return label, value"
   ]
  },
  {
   "cell_type": "code",
   "execution_count": 10,
   "id": "6d91d21e",
   "metadata": {},
   "outputs": [
    {
     "data": {
      "text/plain": [
       "<AxesSubplot:>"
      ]
     },
     "execution_count": 10,
     "metadata": {},
     "output_type": "execute_result"
    },
    {
     "data": {
      "image/png": "[encoded data removed]",
      "text/plain": [
       "<Figure size 432x288 with 1 Axes>"
      ]
     },
     "metadata": {
      "needs_background": "light"
     },
     "output_type": "display_data"
    }
   ],
   "source": [
    "reviews_df.sentiment.value_counts().plot(kind = 'bar')"
   ]
  },
  {
   "cell_type": "code",
   "execution_count": 11,
   "id": "3329efa9",
   "metadata": {},
   "outputs": [
    {
     "data": {
      "image/png": "[encoded data removed]",
      "text/plain": [
       "<Figure size 720x720 with 1 Axes>"
      ]
     },
     "metadata": {},
     "output_type": "display_data"
    }
   ],
   "source": [
    "category_labels,category_value = value_counts_two(reviews_df['sentiment'])\n",
    "fig = plt.figure(figsize =(10, 10)) \n",
    "plt.pie(category_value, labels = category_labels, autopct='%1.2f%%')\n",
    "plt.title('sentiment')\n",
    "plt.show()"
   ]
  },
  {
   "cell_type": "markdown",
   "id": "9f3cb316",
   "metadata": {},
   "source": [
    "Dodeljivanje numeričkih vrednosti sentimentima: negative=0 i positive=1"
   ]
  },
  {
   "cell_type": "code",
   "execution_count": 12,
   "id": "56246cec",
   "metadata": {},
   "outputs": [],
   "source": [
    "from sklearn.preprocessing import LabelEncoder"
   ]
  },
  {
   "cell_type": "code",
   "execution_count": 13,
   "id": "903429e5",
   "metadata": {},
   "outputs": [
    {
     "data": {
      "text/html": [
       "<div>\n",
       "<style scoped>\n",
       "    .dataframe tbody tr th:only-of-type {\n",
       "        vertical-align: middle;\n",
       "    }\n",
       "\n",
       "    .dataframe tbody tr th {\n",
       "        vertical-align: top;\n",
       "    }\n",
       "\n",
       "    .dataframe thead th {\n",
       "        text-align: right;\n",
       "    }\n",
       "</style>\n",
       "<table border=\"1\" class=\"dataframe\">\n",
       "  <thead>\n",
       "    <tr style=\"text-align: right;\">\n",
       "      <th></th>\n",
       "      <th>review</th>\n",
       "      <th>sentiment</th>\n",
       "    </tr>\n",
       "  </thead>\n",
       "  <tbody>\n",
       "    <tr>\n",
       "      <th>0</th>\n",
       "      <td>One of the other reviewers has mentioned that ...</td>\n",
       "      <td>1</td>\n",
       "    </tr>\n",
       "    <tr>\n",
       "      <th>1</th>\n",
       "      <td>A wonderful little production. &lt;br /&gt;&lt;br /&gt;The...</td>\n",
       "      <td>1</td>\n",
       "    </tr>\n",
       "    <tr>\n",
       "      <th>2</th>\n",
       "      <td>I thought this was a wonderful way to spend ti...</td>\n",
       "      <td>1</td>\n",
       "    </tr>\n",
       "    <tr>\n",
       "      <th>3</th>\n",
       "      <td>Basically there's a family where a little boy ...</td>\n",
       "      <td>0</td>\n",
       "    </tr>\n",
       "    <tr>\n",
       "      <th>4</th>\n",
       "      <td>Petter Mattei's \"Love in the Time of Money\" is...</td>\n",
       "      <td>1</td>\n",
       "    </tr>\n",
       "  </tbody>\n",
       "</table>\n",
       "</div>"
      ],
      "text/plain": [
       "                                              review  sentiment\n",
       "0  One of the other reviewers has mentioned that ...          1\n",
       "1  A wonderful little production. <br /><br />The...          1\n",
       "2  I thought this was a wonderful way to spend ti...          1\n",
       "3  Basically there's a family where a little boy ...          0\n",
       "4  Petter Mattei's \"Love in the Time of Money\" is...          1"
      ]
     },
     "execution_count": 13,
     "metadata": {},
     "output_type": "execute_result"
    }
   ],
   "source": [
    "label = LabelEncoder()\n",
    "reviews_df['sentiment']=label.fit_transform(reviews_df['sentiment'])\n",
    "reviews_df.head()"
   ]
  },
  {
   "cell_type": "markdown",
   "id": "e32d6273",
   "metadata": {},
   "source": [
    "Za nastavak analize utisaka neophodni su utisci (kolona 'review') i sentimenti koji su im dodeljeni (kolona 'sentiment')."
   ]
  },
  {
   "cell_type": "code",
   "execution_count": 14,
   "id": "db2b47f2",
   "metadata": {},
   "outputs": [],
   "source": [
    "X=reviews_df['review']\n",
    "raw_reviews = X\n",
    "Y=reviews_df['sentiment']"
   ]
  },
  {
   "cell_type": "markdown",
   "id": "2d9d510d",
   "metadata": {},
   "source": [
    "### Tokenizacija, eliminacija stop reči, stemovanje"
   ]
  },
  {
   "cell_type": "code",
   "execution_count": 15,
   "id": "49ed2841",
   "metadata": {},
   "outputs": [],
   "source": [
    "from autocorrect import Speller\n",
    "from nltk import word_tokenize\n",
    "from nltk.corpus import stopwords\n",
    "from nltk.stem import PorterStemmer\n",
    "\n",
    "stop_words = stopwords.words('english')\n",
    "stemmer = PorterStemmer()\n",
    "speller = Speller(lang='en')"
   ]
  },
  {
   "cell_type": "markdown",
   "id": "0f0955e1",
   "metadata": {},
   "source": [
    "Prvo se vrši tokenizacija - kreira se niz reci, potom se vrši izbacivanje svih karaktera koji nisu slova i prebacivanje u mala slova, potom se izbacuju stop reci i vrši se stemovanje, koristimo speller da ispravimo greške u rečima i na kraju spojimo sve u rečenicu."
   ]
  },
  {
   "cell_type": "code",
   "execution_count": 16,
   "id": "02af50f7",
   "metadata": {},
   "outputs": [],
   "source": [
    "cleaned_reviews=[]\n",
    "\n",
    "for i in range(len(X)):\n",
    "    review_words = word_tokenize(X.iloc[i]) \n",
    "    review_words = [word.lower() for word in review_words if word.isalpha()]\n",
    "    review_words = [stemmer.stem(word) for word in review_words if (word not in stop_words)]\n",
    "    reviews = ' '.join(review_words)\n",
    "    cleaned_reviews.append(reviews)"
   ]
  },
  {
   "cell_type": "code",
   "execution_count": 17,
   "id": "45f3e635",
   "metadata": {},
   "outputs": [
    {
     "name": "stdout",
     "output_type": "stream",
     "text": [
      "one expect star trek movi high art fan expect movi good best episod unfortun movi muddl implaus plot left cring far worst nine far movi even chanc watch well known charact interact anoth movi ca save movi includ goofi scene kirk spock mccoy br br would say movi worth rental hardli worth watch howev true fan need see movi rent movi way see even cabl channel avoid movi\n"
     ]
    }
   ],
   "source": [
    "print(reviews)"
   ]
  },
  {
   "cell_type": "markdown",
   "id": "78c51eb2",
   "metadata": {},
   "source": [
    "### Odredjivanje sentimenta utisaka koriscenjem Sentiment Analysis iz NLTK alata"
   ]
  },
  {
   "cell_type": "markdown",
   "id": "6c902c45",
   "metadata": {},
   "source": [
    "Kod određivanje sentimenta koristi se funkcija polarity_scores koja kao argument prima tekst za koji je potrebno odrediti sentiment. \n",
    "NLTK ima funkciju za direktno sentimentiranje teksta bez prethodne obrada teksta. \n",
    "A kao rezultat vraca 4 vrednosti:\n",
    "\n",
    "pos: Verovatnoca da je sentiment pozitivan, \n",
    "neu: Verovatnoca da je sentiment neutralan,\n",
    "neg: Verovatnoca da je sentiment negativan,\n",
    "compound: Normalizovana suma svih rejtinga. uzima vrednosti od -1 do 1.\n",
    "\n",
    "positive: compound score >= 0.05\n",
    "neutral: compound score between -0.05 and 0.05\n",
    "negative: compound score <= -0.05. "
   ]
  },
  {
   "cell_type": "code",
   "execution_count": 18,
   "id": "3c5ec38e",
   "metadata": {},
   "outputs": [],
   "source": [
    "from nltk.sentiment import SentimentIntensityAnalyzer\n",
    "\n",
    "sia = SentimentIntensityAnalyzer()\n",
    "nltk_sia_results=[]\n",
    "\n",
    "def nltk_sia(reviews):\n",
    "    com = sia.polarity_scores(reviews)[\"compound\"] \n",
    "    if com >= 0.05:\n",
    "        return 1 #positive\n",
    "    elif com > -0.05 and com < 0.05:\n",
    "        return 2 #neutral\n",
    "    else:\n",
    "        return 0 #negative\n",
    "\n",
    "for reviews in raw_reviews:\n",
    "    nltk_sia_results.append(nltk_sia(reviews))"
   ]
  },
  {
   "cell_type": "markdown",
   "id": "087491ed",
   "metadata": {},
   "source": [
    "Racunanje preciznosti "
   ]
  },
  {
   "cell_type": "code",
   "execution_count": 19,
   "id": "077784e7",
   "metadata": {},
   "outputs": [
    {
     "name": "stdout",
     "output_type": "stream",
     "text": [
      "69.29% correct\n"
     ]
    }
   ],
   "source": [
    "correct = 0\n",
    "\n",
    "for i in range(len(Y)):\n",
    "    if(Y[i]==nltk_sia_results[i]):\n",
    "        correct+=1\n",
    "        \n",
    "print(F\"{correct / len(Y):.2%} correct\")"
   ]
  },
  {
   "cell_type": "markdown",
   "id": "c2e362e3",
   "metadata": {},
   "source": [
    "### Ekstrakcija atributa korišćenjem BOW\n",
    "\n",
    "Za ekstrakciju atributa koriscen je bag of words pristup.\n"
   ]
  },
  {
   "cell_type": "code",
   "execution_count": 20,
   "id": "6a94fb62",
   "metadata": {},
   "outputs": [],
   "source": [
    "from sklearn.feature_extraction.text import CountVectorizer\n",
    "matrix = CountVectorizer(max_features=1000)\n",
    "X_fin = matrix.fit_transform(cleaned_reviews).toarray()"
   ]
  },
  {
   "cell_type": "markdown",
   "id": "ddd9bbc8",
   "metadata": {},
   "source": [
    "### Naive Bayes-ov klasifikator iz NLTK alata\n"
   ]
  },
  {
   "cell_type": "code",
   "execution_count": 21,
   "id": "67488e3a",
   "metadata": {},
   "outputs": [],
   "source": [
    "feature_names = matrix.get_feature_names_out()\n",
    "\n",
    "def generate_features(vector):\n",
    "    dictionary = {}\n",
    "    for ind, number in enumerate(vector):\n",
    "        key = feature_names[ind]\n",
    "        dictionary[key] = number\n",
    "    return dictionary\n",
    "\n",
    "X_nltk = []\n",
    "for ind, x in enumerate(X_fin):\n",
    "    X_nltk.append((generate_features(x), Y[ind]))\n",
    "    \n",
    "train_set, test_set = X_nltk[15000:], X_nltk[:15000]"
   ]
  },
  {
   "cell_type": "code",
   "execution_count": 22,
   "id": "f8ad64d2",
   "metadata": {},
   "outputs": [
    {
     "data": {
      "text/plain": [
       "0.8374666666666667"
      ]
     },
     "execution_count": 22,
     "metadata": {},
     "output_type": "execute_result"
    }
   ],
   "source": [
    "from nltk import NaiveBayesClassifier\n",
    "\n",
    "classifierNLTK = NaiveBayesClassifier.train(train_set)\n",
    "nltk.classify.accuracy(classifierNLTK, test_set)"
   ]
  },
  {
   "cell_type": "markdown",
   "id": "aadce1a6",
   "metadata": {},
   "source": [
    "## Decision Tree klasifikator iz NLTK alata"
   ]
  },
  {
   "cell_type": "code",
   "execution_count": null,
   "id": "59b3b771",
   "metadata": {},
   "outputs": [],
   "source": [
    "classifierDT = nltk.DecisionTreeClassifier.train(train_set)"
   ]
  },
  {
   "cell_type": "code",
   "execution_count": null,
   "id": "23a51415",
   "metadata": {},
   "outputs": [],
   "source": [
    "nltk.classify.accuracy(classifierDT, test_set)"
   ]
  },
  {
   "cell_type": "markdown",
   "id": "71787d9b",
   "metadata": {},
   "source": [
    "### TF-IDF mera"
   ]
  },
  {
   "cell_type": "code",
   "execution_count": null,
   "id": "7ba0c05f",
   "metadata": {},
   "outputs": [],
   "source": [
    "from sklearn.feature_extraction.text import TfidfVectorizer\n",
    "tf = TfidfVectorizer(max_features=1000)\n",
    "\n",
    "text_tf = tf.fit_transform(cleaned_reviews)\n",
    "data=[]\n",
    "\n",
    "for i in range(text_tf.shape[0]):\n",
    "    vector = []\n",
    "    for j in range(text_tf.shape[1]):\n",
    "        vector.append(text_tf[i,j])\n",
    "    data.append((generate_features(vector), Y[i]))\n",
    "\n",
    "train_set, test_set = data[15000:], data[:15000]\n",
    "\n",
    "classifier = nltk.classify.NaiveBayesClassifier.train(train_set)\n",
    "\n",
    "nltk.classify.accuracy(classifier, test_set)"
   ]
  },
  {
   "cell_type": "code",
   "execution_count": null,
   "id": "2735ec1a",
   "metadata": {},
   "outputs": [],
   "source": []
  }
 ],
 "metadata": {
  "kernelspec": {
   "display_name": "Python 3 (ipykernel)",
   "language": "python",
   "name": "python3"
  },
  "language_info": {
   "codemirror_mode": {
    "name": "ipython",
    "version": 3
   },
   "file_extension": ".py",
   "mimetype": "text/x-python",
   "name": "python",
   "nbconvert_exporter": "python",
   "pygments_lexer": "ipython3",
   "version": "3.9.12"
  }
 },
 "nbformat": 4,
 "nbformat_minor": 5
}
